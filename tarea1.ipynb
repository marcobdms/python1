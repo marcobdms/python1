{
 "cells": [
  {
   "cell_type": "code",
   "execution_count": 2,
   "id": "d3b386e7-dff5-44dd-9d4d-48e7ec6ccb46",
   "metadata": {
    "tags": []
   },
   "outputs": [
    {
     "name": "stdout",
     "output_type": "stream",
     "text": [
      "¡Hola Mundo!\n"
     ]
    }
   ],
   "source": [
    "print ('¡Hola Mundo!')"
   ]
  },
  {
   "cell_type": "markdown",
   "id": "6fb38da1",
   "metadata": {},
   "source": []
  },
  {
   "cell_type": "code",
   "execution_count": 4,
   "id": "49c47630-7fb6-4f1e-9182-0c4d729a5622",
   "metadata": {
    "tags": []
   },
   "outputs": [
    {
     "name": "stdout",
     "output_type": "stream",
     "text": [
      "¡Hola Mundo!\n"
     ]
    }
   ],
   "source": [
    "Texto = ('¡Hola Mundo!')\n",
    "print (Texto)"
   ]
  },
  {
   "cell_type": "code",
   "execution_count": 6,
   "id": "eba26a6c-ef34-48c0-a00e-bb4d787ce74a",
   "metadata": {
    "tags": []
   },
   "outputs": [
    {
     "name": "stdout",
     "output_type": "stream",
     "text": [
      "Ingrese su nombre:  Marco\n"
     ]
    },
    {
     "name": "stdout",
     "output_type": "stream",
     "text": [
      "Hola Marco!\n"
     ]
    }
   ],
   "source": [
    "nombre = input(\"Ingrese su nombre: \")\n",
    "print ('Hola ' + nombre + '!')"
   ]
  },
  {
   "cell_type": "code",
   "execution_count": 11,
   "id": "a8c090ea-1ba9-4ca0-8b2c-58876a134e1d",
   "metadata": {
    "tags": []
   },
   "outputs": [
    {
     "name": "stdout",
     "output_type": "stream",
     "text": [
      "10.240000000000002\n"
     ]
    }
   ],
   "source": [
    "calculo = (3+2/(2*5))**2\n",
    "print (calculo)"
   ]
  },
  {
   "cell_type": "code",
   "execution_count": 18,
   "id": "ed203e60-df07-4955-98d1-4929f36f3515",
   "metadata": {
    "tags": []
   },
   "outputs": [
    {
     "name": "stdout",
     "output_type": "stream",
     "text": [
      "ingrese el numero de horas trabajadas 3\n",
      "ingrese el numero de pago por hora 4\n"
     ]
    },
    {
     "name": "stdout",
     "output_type": "stream",
     "text": [
      "su pago correspondiente es 12.0\n"
     ]
    }
   ],
   "source": [
    "horas = int(input('ingrese el numero de horas trabajadas'))\n",
    "\n",
    "pago = float(input('ingrese el numero de pago por hora'))\n",
    "\n",
    "calculo = horas * pago\n",
    "\n",
    "print(f'su pago correspondiente es {calculo}')"
   ]
  },
  {
   "cell_type": "code",
   "execution_count": 23,
   "id": "435729a0-91c4-4f46-a720-c25137b9cf92",
   "metadata": {
    "tags": []
   },
   "outputs": [
    {
     "name": "stdout",
     "output_type": "stream",
     "text": [
      "ingrese un valor \"n\" dada la formula n(n + 1)/2 4\n"
     ]
    },
    {
     "name": "stdout",
     "output_type": "stream",
     "text": [
      "el calculo para la formula es: 10.0\n"
     ]
    }
   ],
   "source": [
    "n = int(input('ingrese un valor \"n\" dada la formula n(n + 1)/2'))\n",
    "calculo = n*(n + 1)/2\n",
    "print ('el calculo para la formula es:', calculo)"
   ]
  },
  {
   "cell_type": "code",
   "execution_count": 29,
   "id": "be5ff248-d5e3-4f9b-93a5-48e16390d52b",
   "metadata": {
    "tags": []
   },
   "outputs": [
    {
     "name": "stdout",
     "output_type": "stream",
     "text": [
      "ingrese su peso 34.67\n",
      "ingrese su altura 65.34\n"
     ]
    },
    {
     "name": "stdout",
     "output_type": "stream",
     "text": [
      "tu indice de masa corporal es: 4530.68\n"
     ]
    }
   ],
   "source": [
    "peso = float(input('ingrese su peso'))\n",
    "altura = float(input('ingrese su altura'))\n",
    "calculo = peso * (altura * 2)\n",
    "imc = round(calculo, 2)\n",
    "print('tu indice de masa corporal es:', imc)"
   ]
  },
  {
   "cell_type": "code",
   "execution_count": 31,
   "id": "91d4191f-e27f-4dff-96ff-479989fa6ae8",
   "metadata": {
    "tags": []
   },
   "outputs": [
    {
     "name": "stdout",
     "output_type": "stream",
     "text": [
      "introduzca la variable 1 3\n",
      "introduzca la variable 2 4\n"
     ]
    },
    {
     "name": "stdout",
     "output_type": "stream",
     "text": [
      "3 entre 4 da un cociente 0 y un resto 3\n"
     ]
    }
   ],
   "source": [
    "n = int(input('introduzca la variable 1'))\n",
    "m = int(input('introduzca la variable 2'))\n",
    "\n",
    "\n",
    "c = n // m \n",
    "r = n % m   \n",
    "\n",
    "print(f\"{n} entre {m} da un cociente {c} y un resto {r}\")\n"
   ]
  },
  {
   "cell_type": "code",
   "execution_count": 2,
   "id": "360b207f-52ac-4f61-8f39-4a0cbfc6dcd4",
   "metadata": {
    "tags": []
   },
   "outputs": [
    {
     "name": "stdout",
     "output_type": "stream",
     "text": [
      "introduzca la cantidad a invertir 100\n",
      "introduzca el interes 100\n",
      "introduzca el numero de años 1\n"
     ]
    },
    {
     "name": "stdout",
     "output_type": "stream",
     "text": [
      "200\n"
     ]
    }
   ],
   "source": [
    "inversion = int(input('introduzca la cantidad a invertir'))\n",
    "interes = int(input('introduzca el interes'))\n",
    "años = int(input('introduzca el numero de años'))\n",
    "\n",
    "calculo = inversion+(interes*años)\n",
    "\n",
    "print(calculo)"
   ]
  },
  {
   "cell_type": "code",
   "execution_count": 3,
   "id": "13c7f819-e52f-425f-bf93-7e9ffddeeb1c",
   "metadata": {
    "tags": []
   },
   "outputs": [
    {
     "name": "stdout",
     "output_type": "stream",
     "text": [
      "el envio es de 5280 kg\n"
     ]
    }
   ],
   "source": [
    "numPayasos = 15\n",
    "numMuñecas = 48\n",
    "pesoPayasos = 112\n",
    "pesoMuñecas = 75\n",
    "\n",
    "envio = ((pesoPayasos * numPayasos) + (pesoMuñecas * numMuñecas))\n",
    "\n",
    "\n",
    "print ('el envio es de', envio,'kg')"
   ]
  },
  {
   "cell_type": "code",
   "execution_count": 4,
   "id": "875e9604-5c99-4969-a89a-fe215c7f12ed",
   "metadata": {},
   "outputs": [
    {
     "name": "stdout",
     "output_type": "stream",
     "text": [
      "ahorros despues del primero año: 15.6\n",
      "Ahorros después del segundo año: 16.22\n",
      "ahorros despues del tercer año: 16.87\n"
     ]
    }
   ],
   "source": [
    "interes = 0.04\n",
    "monto = float(input('introduce la cantidad'))\n",
    "\n",
    "primerAño = monto * (1 + interes)\n",
    "\n",
    "segundoAño = primerAño * (1 + interes)\n",
    "\n",
    "tercerAño = segundoAño * (1 + interes)\n",
    "\n",
    "print(f'ahorros despues del primero año: {round(primerAño, 2)}')\n",
    "print(f'Ahorros después del segundo año: {round(segundoAño, 2)}')\n",
    "print(f'ahorros despues del tercer año: {round(tercerAño, 2)}')"
   ]
  },
  {
   "cell_type": "code",
   "execution_count": 5,
   "id": "42b1cdd0",
   "metadata": {},
   "outputs": [
    {
     "name": "stdout",
     "output_type": "stream",
     "text": [
      "precio habitual de una barra de pan: 3.49$\n",
      "descuento aplicado de una barra de pan: 3.49$\n",
      "coste final de una barra de pan: 3.49$\n"
     ]
    }
   ],
   "source": [
    "pan = 3.49\n",
    "descuento = 0.60\n",
    "\n",
    "panMalo = int(input('ingresa el valor de los panes que no son del dia'))\n",
    "\n",
    "precioHabitual = pan\n",
    "PrecioDescuento = pan * descuento\n",
    "\n",
    "total = (precioHabitual - PrecioDescuento) * panMalo\n",
    "\n",
    "print(f'precio habitual de una barra de pan: {precioHabitual:.2f}$')\n",
    "print(f'descuento aplicado de una barra de pan: {precioHabitual:.2f}$')\n",
    "print(f'coste final de una barra de pan: {precioHabitual:.2f}$')"
   ]
  }
 ],
 "metadata": {
  "kernelspec": {
   "display_name": "Python 3 (ipykernel)",
   "language": "python",
   "name": "python3"
  },
  "language_info": {
   "codemirror_mode": {
    "name": "ipython",
    "version": 3
   },
   "file_extension": ".py",
   "mimetype": "text/x-python",
   "name": "python",
   "nbconvert_exporter": "python",
   "pygments_lexer": "ipython3",
   "version": "3.11.4"
  }
 },
 "nbformat": 4,
 "nbformat_minor": 5
}
